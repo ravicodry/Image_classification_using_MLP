{
  "nbformat": 4,
  "nbformat_minor": 0,
  "metadata": {
    "colab": {
      "name": "Gurmukhi Handwritten Digit Classification.ipynb",
      "provenance": [],
      "authorship_tag": "ABX9TyMTK6M1Od0cmFwi/co+dcCr",
      "include_colab_link": true
    },
    "kernelspec": {
      "name": "python3",
      "display_name": "Python 3"
    },
    "language_info": {
      "name": "python"
    }
  },
  "cells": [
    {
      "cell_type": "markdown",
      "metadata": {
        "id": "view-in-github",
        "colab_type": "text"
      },
      "source": [
        "<a href=\"https://colab.research.google.com/github/ravicodry/Image_classification_using_MLP/blob/main/Gurmukhi_Handwritten_Digit_Classification.ipynb\" target=\"_parent\"><img src=\"https://colab.research.google.com/assets/colab-badge.svg\" alt=\"Open In Colab\"/></a>"
      ]
    },
    {
      "cell_type": "code",
      "metadata": {
        "id": "skn6on9iI9Vo"
      },
      "source": [
        "import numpy as np\n",
        "import torch\n",
        "import torchvision\n",
        "import os\n",
        "import matplotlib.pyplot as plt\n",
        "from time import time\n",
        "from torchvision import datasets, transforms\n",
        "from torch import nn, optim\n",
        "import cv2\n",
        "import os\n",
        "import torchvision"
      ],
      "execution_count": 1,
      "outputs": []
    },
    {
      "cell_type": "markdown",
      "metadata": {
        "id": "3LHc6VwrauZk"
      },
      "source": [
        "Basic libraray were imported"
      ]
    },
    {
      "cell_type": "markdown",
      "metadata": {
        "id": "In4OO3ZEa9V1"
      },
      "source": [
        "Convert data in between 0 and 1 value using transform function."
      ]
    },
    {
      "cell_type": "code",
      "metadata": {
        "id": "-vSnP3-1pML7"
      },
      "source": [
        "transform = transforms.Compose([transforms.ToTensor(),\n",
        "                              transforms.Normalize((0.5,), (0.5,)),\n",
        "                              ])"
      ],
      "execution_count": 2,
      "outputs": []
    },
    {
      "cell_type": "code",
      "metadata": {
        "colab": {
          "base_uri": "https://localhost:8080/"
        },
        "id": "cZZe3D5MdHCI",
        "outputId": "0920309f-adfa-434b-9a4b-4ee33606fa5a"
      },
      "source": [
        "from google.colab import drive\n",
        "drive.mount('/content/drive/')"
      ],
      "execution_count": 3,
      "outputs": [
        {
          "output_type": "stream",
          "text": [
            "Mounted at /content/drive/\n"
          ],
          "name": "stdout"
        }
      ]
    },
    {
      "cell_type": "code",
      "metadata": {
        "id": "LObSXwr7cK93"
      },
      "source": [
        "train_path='/content/drive/MyDrive/GurNum/train/'\n",
        "val_path='/content/drive/MyDrive/GurNum/val'"
      ],
      "execution_count": 4,
      "outputs": []
    },
    {
      "cell_type": "markdown",
      "metadata": {
        "id": "yrvKI7zebNuW"
      },
      "source": [
        "load the dataset and than create batch of 64 for each train and validation set and shuffle them randomly,"
      ]
    },
    {
      "cell_type": "code",
      "metadata": {
        "id": "zM5ly9vPpMPR"
      },
      "source": [
        "trainset = torchvision.datasets.ImageFolder(train_path,transform=transform)\n",
        "valset = torchvision.datasets.ImageFolder(val_path,transform=transform)\n",
        "trainloader = torch.utils.data.DataLoader(trainset, batch_size=64, shuffle=True)\n",
        "valloader = torch.utils.data.DataLoader(valset, batch_size=64, shuffle=True)"
      ],
      "execution_count": 5,
      "outputs": []
    },
    {
      "cell_type": "markdown",
      "metadata": {
        "id": "wWR3i6GNdxEP"
      },
      "source": [
        "some details of image"
      ]
    },
    {
      "cell_type": "code",
      "metadata": {
        "colab": {
          "base_uri": "https://localhost:8080/"
        },
        "id": "8Sw_3CSCqEcy",
        "outputId": "23d591c7-bf0f-4a6d-f985-16644b971af9"
      },
      "source": [
        "dataiter = iter(trainloader)\n",
        "images, labels = dataiter.next()\n",
        "\n",
        "print(images.shape)\n",
        "print(labels.shape)"
      ],
      "execution_count": 6,
      "outputs": [
        {
          "output_type": "stream",
          "text": [
            "torch.Size([64, 3, 32, 32])\n",
            "torch.Size([64])\n"
          ],
          "name": "stdout"
        }
      ]
    },
    {
      "cell_type": "code",
      "metadata": {
        "colab": {
          "base_uri": "https://localhost:8080/",
          "height": 283
        },
        "id": "-KYnOCoNqNI3",
        "outputId": "08761165-6b05-4ab3-d666-c73ac2b939e1"
      },
      "source": [
        "plt.imshow(images[0][1].numpy().squeeze(), cmap='gray_r')"
      ],
      "execution_count": 7,
      "outputs": [
        {
          "output_type": "execute_result",
          "data": {
            "text/plain": [
              "<matplotlib.image.AxesImage at 0x7f18a074fd90>"
            ]
          },
          "metadata": {
            "tags": []
          },
          "execution_count": 7
        },
        {
          "output_type": "display_data",
          "data": {
            "image/png": "[encoded data removed]",
            "text/plain": [
              "<Figure size 432x288 with 1 Axes>"
            ]
          },
          "metadata": {
            "tags": [],
            "needs_background": "light"
          }
        }
      ]
    },
    {
      "cell_type": "code",
      "metadata": {
        "colab": {
          "base_uri": "https://localhost:8080/",
          "height": 246
        },
        "id": "0e8-ENqsrgKD",
        "outputId": "36310685-3c48-45ae-ca2b-270a4004eb8a"
      },
      "source": [
        "figure = plt.figure()\n",
        "num_of_images = 60\n",
        "for index in range(1, num_of_images + 1):\n",
        "    plt.subplot(6, 10, index)\n",
        "    plt.axis('off')\n",
        "    plt.imshow(images[index][0].numpy().squeeze(), cmap='gray_r')"
      ],
      "execution_count": 8,
      "outputs": [
        {
          "output_type": "display_data",
          "data": {
            "image/png": "[encoded data removed]",
            "text/plain": [
              "<Figure size 432x288 with 60 Axes>"
            ]
          },
          "metadata": {
            "tags": [],
            "needs_background": "light"
          }
        }
      ]
    },
    {
      "cell_type": "markdown",
      "metadata": {
        "id": "j0bAA4bld7Ii"
      },
      "source": [
        "Create neural network having input layer,output layer and number of hidden layer which can be vary to check the best perfromance of network."
      ]
    },
    {
      "cell_type": "code",
      "metadata": {
        "colab": {
          "base_uri": "https://localhost:8080/"
        },
        "id": "BZSyowUerw9V",
        "outputId": "72289dbc-d1b5-4197-8c22-20198db85d47"
      },
      "source": [
        "input_size = 3072\n",
        "hidden_sizes = [128,64]\n",
        "output_size = 10\n",
        "\n",
        "model = nn.Sequential(nn.Linear(input_size, hidden_sizes[0]),\n",
        "                      nn.ReLU(),\n",
        "                      nn.Linear(hidden_sizes[0], hidden_sizes[1]),\n",
        "                      nn.ReLU(),\n",
        "                      nn.Linear(hidden_sizes[1], output_size),\n",
        "                      nn.Softmax(dim=1))\n",
        "print(model)"
      ],
      "execution_count": 9,
      "outputs": [
        {
          "output_type": "stream",
          "text": [
            "Sequential(\n",
            "  (0): Linear(in_features=3072, out_features=128, bias=True)\n",
            "  (1): ReLU()\n",
            "  (2): Linear(in_features=128, out_features=64, bias=True)\n",
            "  (3): ReLU()\n",
            "  (4): Linear(in_features=64, out_features=10, bias=True)\n",
            "  (5): Softmax(dim=1)\n",
            ")\n"
          ],
          "name": "stdout"
        }
      ]
    },
    {
      "cell_type": "code",
      "metadata": {
        "id": "PSqExRpisH5S"
      },
      "source": [
        "criterion =nn.NLLLoss()\n",
        "images, labels = next(iter(trainloader))\n",
        "images = images.view(images.shape[0], -1)\n",
        "\n",
        "logps = model(images) #log probabilities\n",
        "loss = criterion(logps, labels) #calculate the NLL loss"
      ],
      "execution_count": 21,
      "outputs": []
    },
    {
      "cell_type": "markdown",
      "metadata": {
        "id": "uNSmhiQpedlm"
      },
      "source": [
        "Initialization of weight and than start updating in each iteration."
      ]
    },
    {
      "cell_type": "code",
      "metadata": {
        "colab": {
          "base_uri": "https://localhost:8080/"
        },
        "id": "-PX6AymFsMik",
        "outputId": "5c99baf1-bb0e-46e6-9881-c4f641ec3fbb"
      },
      "source": [
        "print('Before backward pass: \\n', model[0].weight.grad)\n",
        "loss.backward()\n",
        "print('After backward pass: \\n', model[0].weight.grad)"
      ],
      "execution_count": 22,
      "outputs": [
        {
          "output_type": "stream",
          "text": [
            "Before backward pass: \n",
            " tensor([[-5.6884e-04, -6.4986e-04,  6.4860e-04,  ..., -4.8648e-04,\n",
            "         -7.1248e-04, -7.1248e-04],\n",
            "        [ 2.2941e-04,  4.5913e-04, -7.7427e-04,  ...,  3.2713e-04,\n",
            "          2.5124e-04,  1.2240e-04],\n",
            "        [ 2.6665e-05,  4.7522e-04, -7.0488e-04,  ...,  9.7014e-05,\n",
            "          3.7140e-04,  2.3295e-04],\n",
            "        ...,\n",
            "        [ 2.0781e-04, -4.1166e-04, -5.6582e-04,  ...,  6.0166e-04,\n",
            "          2.2908e-05,  2.2908e-05],\n",
            "        [ 2.5649e-04,  2.5649e-04,  2.5649e-04,  ...,  2.0031e-04,\n",
            "          2.5649e-04,  2.5649e-04],\n",
            "        [ 2.8328e-04, -4.3674e-05, -1.9925e-04,  ...,  3.7421e-05,\n",
            "         -1.0111e-04, -8.5005e-06]])\n",
            "After backward pass: \n",
            " tensor([[-2.9771e-04, -3.7874e-04,  9.0107e-04,  ..., -5.1157e-04,\n",
            "         -7.8062e-04, -7.7752e-04],\n",
            "        [ 9.5339e-05,  3.2506e-04, -8.8890e-04,  ...,  1.1707e-03,\n",
            "          1.3863e-03,  2.9080e-04],\n",
            "        [-6.6879e-04, -2.2024e-04, -1.3984e-03,  ...,  4.3002e-05,\n",
            "          6.6358e-04,  1.1581e-04],\n",
            "        ...,\n",
            "        [ 2.7917e-04, -3.4029e-04, -2.8825e-04,  ...,  6.0399e-04,\n",
            "         -2.1736e-04, -1.3187e-04],\n",
            "        [ 3.0637e-04,  3.0637e-04,  3.0637e-04,  ...,  2.5019e-04,\n",
            "          3.0637e-04,  3.0637e-04],\n",
            "        [ 2.5326e-04, -7.3696e-05, -2.2548e-04,  ..., -2.8650e-04,\n",
            "         -4.4900e-04, -2.3431e-04]])\n"
          ],
          "name": "stdout"
        }
      ]
    },
    {
      "cell_type": "markdown",
      "metadata": {
        "id": "icDQEhStesQz"
      },
      "source": [
        "Stochastic gradient descent is initialzie to train the model and update the weight of network to reduce the loss function. "
      ]
    },
    {
      "cell_type": "code",
      "metadata": {
        "colab": {
          "base_uri": "https://localhost:8080/"
        },
        "id": "KHl6JcxasTB5",
        "outputId": "deff283f-c3c9-4f1f-9a5f-d951b76dd85a"
      },
      "source": [
        "optimizer = optim.SGD(model.parameters(), lr=0.003, momentum=0.9)\n",
        "time0 = time()\n",
        "epochs = 10\n",
        "for e in range(epochs):\n",
        "    running_loss = 0\n",
        "    for images, labels in trainloader:\n",
        "        # Flatten MNIST images into a 784 long vector\n",
        "        images = images.view(images.shape[0], -1)\n",
        "    \n",
        "        # Training pass\n",
        "        optimizer.zero_grad()\n",
        "        \n",
        "        output = model(images)\n",
        "        loss = criterion(output, labels)\n",
        "        \n",
        "        #This is where the model learns by backpropagating\n",
        "        loss.backward()\n",
        "        \n",
        "        #And optimizes its weights here\n",
        "        optimizer.step()\n",
        "        \n",
        "        running_loss += loss.item()\n",
        "    else:\n",
        "        print(\"Epoch {} - Training loss: {}\".format(e, running_loss/len(trainloader)))\n",
        "print(\"\\nTraining Time (in minutes) =\",(time()-time0)/60)"
      ],
      "execution_count": 23,
      "outputs": [
        {
          "output_type": "stream",
          "text": [
            "Epoch 0 - Training loss: -0.7089946269989014\n",
            "Epoch 1 - Training loss: -0.7297308221459389\n",
            "Epoch 2 - Training loss: -0.7468818500638008\n",
            "Epoch 3 - Training loss: -0.7597362361848354\n",
            "Epoch 4 - Training loss: -0.7710200063884258\n",
            "Epoch 5 - Training loss: -0.7879961505532265\n",
            "Epoch 6 - Training loss: -0.8064373210072517\n",
            "Epoch 7 - Training loss: -0.8280634470283985\n",
            "Epoch 8 - Training loss: -0.8398306481540203\n",
            "Epoch 9 - Training loss: -0.8487420529127121\n",
            "\n",
            "Training Time (in minutes) = 0.31111690600713093\n"
          ],
          "name": "stdout"
        }
      ]
    },
    {
      "cell_type": "code",
      "metadata": {
        "id": "XLirqajfsdmp"
      },
      "source": [
        "def view_classify(img, ps):\n",
        "    ''' Function for viewing an image and it's predicted classes.\n",
        "    '''\n",
        "    ps = ps.data.numpy().squeeze()\n",
        "\n",
        "    fig, (ax1, ax2) = plt.subplots(figsize=(6,9), ncols=2)\n",
        "    ax1.imshow(img.resize_(1, 32, 32).numpy().squeeze())\n",
        "    ax1.axis('off')\n",
        "    ax2.barh(np.arange(10), ps)\n",
        "    ax2.set_aspect(0.1)\n",
        "    ax2.set_yticks(np.arange(10))\n",
        "    ax2.set_yticklabels(np.arange(10))\n",
        "    ax2.set_title('Class Probability')\n",
        "    ax2.set_xlim(0, 1.1)\n",
        "    plt.tight_layout()"
      ],
      "execution_count": 13,
      "outputs": []
    },
    {
      "cell_type": "code",
      "metadata": {
        "colab": {
          "base_uri": "https://localhost:8080/",
          "height": 270
        },
        "id": "XW3SFeAUsliy",
        "outputId": "ca137666-3061-498b-b575-acb105830a4a"
      },
      "source": [
        "images, labels = next(iter(valloader))\n",
        "\n",
        "img = images[0].view(1, 3072)\n",
        "with torch.no_grad():\n",
        "    logps = model(img)\n",
        "\n",
        "ps = torch.exp(logps)\n",
        "probab = list(ps.numpy()[0])\n",
        "print(\"Predicted Digit =\", probab.index(max(probab)))\n",
        "view_classify(img.view(3, 32, 32), ps)"
      ],
      "execution_count": 14,
      "outputs": [
        {
          "output_type": "stream",
          "text": [
            "Predicted Digit = 9\n"
          ],
          "name": "stdout"
        },
        {
          "output_type": "display_data",
          "data": {
            "image/png": "[encoded data removed]",
            "text/plain": [
              "<Figure size 432x648 with 2 Axes>"
            ]
          },
          "metadata": {
            "tags": [],
            "needs_background": "light"
          }
        }
      ]
    },
    {
      "cell_type": "code",
      "metadata": {
        "colab": {
          "base_uri": "https://localhost:8080/"
        },
        "id": "vy8GHgeis8Q1",
        "outputId": "2606c2b4-d5af-49ed-b0a0-4f53fd34611e"
      },
      "source": [
        "correct_count, all_count = 0, 0\n",
        "for images,labels in valloader:\n",
        "  for i in range(len(labels)):\n",
        "    img = images[i].view(1, 3072)\n",
        "    with torch.no_grad():\n",
        "        logps = model(img)\n",
        "\n",
        "    \n",
        "    ps = torch.exp(logps)\n",
        "    probab = list(ps.numpy()[0])\n",
        "    pred_label = probab.index(max(probab))\n",
        "    true_label = labels.numpy()[i]\n",
        "    if(true_label == pred_label):\n",
        "      correct_count += 1\n",
        "    all_count += 1\n",
        "\n",
        "print(\"Number Of Images Tested =\", all_count)\n",
        "print(\"\\nModel Accuracy =\", (correct_count/all_count))"
      ],
      "execution_count": 24,
      "outputs": [
        {
          "output_type": "stream",
          "text": [
            "Number Of Images Tested = 178\n",
            "\n",
            "Model Accuracy = 0.848314606741573\n"
          ],
          "name": "stdout"
        }
      ]
    }
  ]
}