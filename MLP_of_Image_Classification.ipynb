{
  "nbformat": 4,
  "nbformat_minor": 0,
  "metadata": {
    "colab": {
      "name": "Copy of Image_Classification.ipynb",
      "provenance": [],
      "toc_visible": true
    },
    "kernelspec": {
      "name": "python3",
      "display_name": "Python 3"
    },
    "language_info": {
      "name": "python"
    }
  },
  "cells": [
    {
      "cell_type": "code",
      "metadata": {
        "id": "_Kz9azSXDN3a"
      },
      "source": [
        "# import neccessary library\n",
        "import pandas as pd\n",
        "import numpy as np\n",
        "import matplotlib.pyplot as plt\n",
        "import tensorflow as tf\n",
        "from tensorflow.keras import datasets,layers,models"
      ],
      "execution_count": null,
      "outputs": []
    },
    {
      "cell_type": "markdown",
      "metadata": {
        "id": "vNllpxdEMQb9"
      },
      "source": [
        "Load the dataset\n"
      ]
    },
    {
      "cell_type": "code",
      "metadata": {
        "id": "9-_ESkQVMTiD",
        "colab": {
          "base_uri": "https://localhost:8080/"
        },
        "outputId": "181386b5-8360-41a4-f956-6a665d37773f"
      },
      "source": [
        "(X_train, y_train), (X_test,y_test) = datasets.cifar10.load_data()"
      ],
      "execution_count": null,
      "outputs": [
        {
          "output_type": "stream",
          "text": [
            "Downloading data from https://www.cs.toronto.edu/~kriz/cifar-10-python.tar.gz\n",
            "170500096/170498071 [==============================] - 2s 0us/step\n"
          ],
          "name": "stdout"
        }
      ]
    },
    {
      "cell_type": "code",
      "metadata": {
        "colab": {
          "base_uri": "https://localhost:8080/"
        },
        "id": "jjpYxTpu1dE5",
        "outputId": "0d575fa8-e0c8-4ac9-8cee-6657ef2c68ff"
      },
      "source": [
        "\n",
        "X_train.shape"
      ],
      "execution_count": null,
      "outputs": [
        {
          "output_type": "execute_result",
          "data": {
            "text/plain": [
              "(50000, 32, 32, 3)"
            ]
          },
          "metadata": {
            "tags": []
          },
          "execution_count": 3
        }
      ]
    },
    {
      "cell_type": "markdown",
      "metadata": {
        "id": "zHDvmdjaOheH"
      },
      "source": [
        "# shape of train and test file"
      ]
    },
    {
      "cell_type": "code",
      "metadata": {
        "colab": {
          "base_uri": "https://localhost:8080/"
        },
        "id": "37IlsxhTNlel",
        "outputId": "ecc739c0-f816-4a19-a40f-357c7e978052"
      },
      "source": [
        "X_train.shape"
      ],
      "execution_count": null,
      "outputs": [
        {
          "output_type": "execute_result",
          "data": {
            "text/plain": [
              "(50000, 32, 32, 3)"
            ]
          },
          "metadata": {
            "tags": []
          },
          "execution_count": 4
        }
      ]
    },
    {
      "cell_type": "markdown",
      "metadata": {
        "id": "55XRw8F6_W1m"
      },
      "source": [
        "Each image is 32px by 32px and each pixel contains 3 dimensions (R, G, B). Each value is the brightness of the corresponding color between 0 and 255."
      ]
    },
    {
      "cell_type": "code",
      "metadata": {
        "colab": {
          "base_uri": "https://localhost:8080/"
        },
        "id": "Xwn6zYy0-hV2",
        "outputId": "9ab9a046-5db8-4478-d17d-7ec83f4ca080"
      },
      "source": [
        "X_train[0]"
      ],
      "execution_count": null,
      "outputs": [
        {
          "output_type": "execute_result",
          "data": {
            "text/plain": [
              "array([[[ 59,  62,  63],\n",
              "        [ 43,  46,  45],\n",
              "        [ 50,  48,  43],\n",
              "        ...,\n",
              "        [158, 132, 108],\n",
              "        [152, 125, 102],\n",
              "        [148, 124, 103]],\n",
              "\n",
              "       [[ 16,  20,  20],\n",
              "        [  0,   0,   0],\n",
              "        [ 18,   8,   0],\n",
              "        ...,\n",
              "        [123,  88,  55],\n",
              "        [119,  83,  50],\n",
              "        [122,  87,  57]],\n",
              "\n",
              "       [[ 25,  24,  21],\n",
              "        [ 16,   7,   0],\n",
              "        [ 49,  27,   8],\n",
              "        ...,\n",
              "        [118,  84,  50],\n",
              "        [120,  84,  50],\n",
              "        [109,  73,  42]],\n",
              "\n",
              "       ...,\n",
              "\n",
              "       [[208, 170,  96],\n",
              "        [201, 153,  34],\n",
              "        [198, 161,  26],\n",
              "        ...,\n",
              "        [160, 133,  70],\n",
              "        [ 56,  31,   7],\n",
              "        [ 53,  34,  20]],\n",
              "\n",
              "       [[180, 139,  96],\n",
              "        [173, 123,  42],\n",
              "        [186, 144,  30],\n",
              "        ...,\n",
              "        [184, 148,  94],\n",
              "        [ 97,  62,  34],\n",
              "        [ 83,  53,  34]],\n",
              "\n",
              "       [[177, 144, 116],\n",
              "        [168, 129,  94],\n",
              "        [179, 142,  87],\n",
              "        ...,\n",
              "        [216, 184, 140],\n",
              "        [151, 118,  84],\n",
              "        [123,  92,  72]]], dtype=uint8)"
            ]
          },
          "metadata": {
            "tags": []
          },
          "execution_count": 5
        }
      ]
    },
    {
      "cell_type": "code",
      "metadata": {
        "colab": {
          "base_uri": "https://localhost:8080/"
        },
        "id": "5SBNIfBTO1eM",
        "outputId": "10f2a10c-c0fd-4c16-8b27-ae768c73c863"
      },
      "source": [
        "X_test.shape"
      ],
      "execution_count": null,
      "outputs": [
        {
          "output_type": "execute_result",
          "data": {
            "text/plain": [
              "(10000, 32, 32, 3)"
            ]
          },
          "metadata": {
            "tags": []
          },
          "execution_count": 6
        }
      ]
    },
    {
      "cell_type": "markdown",
      "metadata": {
        "id": "2p20zxdzO-mw"
      },
      "source": [
        "50000 training images and 1000 test images\n"
      ]
    },
    {
      "cell_type": "code",
      "metadata": {
        "colab": {
          "base_uri": "https://localhost:8080/"
        },
        "id": "Xa3Nl81tPBMk",
        "outputId": "7cc9029a-fbea-463c-b1ab-9fd854798e60"
      },
      "source": [
        "y_train.shape"
      ],
      "execution_count": null,
      "outputs": [
        {
          "output_type": "execute_result",
          "data": {
            "text/plain": [
              "(50000, 1)"
            ]
          },
          "metadata": {
            "tags": []
          },
          "execution_count": 7
        }
      ]
    },
    {
      "cell_type": "code",
      "metadata": {
        "colab": {
          "base_uri": "https://localhost:8080/",
          "height": 283
        },
        "id": "yUo7TeuQPxWN",
        "outputId": "cab1edd0-7a8e-4e44-a2de-a36ca458f784"
      },
      "source": [
        "plt.imshow(X_train[19])"
      ],
      "execution_count": null,
      "outputs": [
        {
          "output_type": "execute_result",
          "data": {
            "text/plain": [
              "<matplotlib.image.AxesImage at 0x7f9255bac3d0>"
            ]
          },
          "metadata": {
            "tags": []
          },
          "execution_count": 8
        },
        {
          "output_type": "display_data",
          "data": {
            "image/png": "[encoded data removed]",
            "text/plain": [
              "<Figure size 432x288 with 1 Axes>"
            ]
          },
          "metadata": {
            "tags": [],
            "needs_background": "light"
          }
        }
      ]
    },
    {
      "cell_type": "code",
      "metadata": {
        "id": "u24Yv7mTTd7B"
      },
      "source": [
        "y_train1D=y_train.reshape(-1,)"
      ],
      "execution_count": null,
      "outputs": []
    },
    {
      "cell_type": "code",
      "metadata": {
        "colab": {
          "base_uri": "https://localhost:8080/"
        },
        "id": "MaXaGwvFUOBT",
        "outputId": "6a29e7c1-0f79-43c8-9ceb-f1e796983e54"
      },
      "source": [
        "y_train1D.shape"
      ],
      "execution_count": null,
      "outputs": [
        {
          "output_type": "execute_result",
          "data": {
            "text/plain": [
              "(50000,)"
            ]
          },
          "metadata": {
            "tags": []
          },
          "execution_count": 10
        }
      ]
    },
    {
      "cell_type": "code",
      "metadata": {
        "colab": {
          "base_uri": "https://localhost:8080/"
        },
        "id": "lShV14zWCPnB",
        "outputId": "3670c521-e443-4999-a3d4-a95f5cfd4f31"
      },
      "source": [
        "y_train1D"
      ],
      "execution_count": null,
      "outputs": [
        {
          "output_type": "execute_result",
          "data": {
            "text/plain": [
              "array([6, 9, 9, ..., 9, 1, 1], dtype=uint8)"
            ]
          },
          "metadata": {
            "tags": []
          },
          "execution_count": 11
        }
      ]
    },
    {
      "cell_type": "markdown",
      "metadata": {
        "id": "B6Bxaq4GQbI1"
      },
      "source": [
        "There are 10 classes in this datasets\n"
      ]
    },
    {
      "cell_type": "code",
      "metadata": {
        "id": "jRadc9ZtQk1K"
      },
      "source": [
        "classes=[\"airplane\",\"automobile\",\"bird\",\"cat\",\"deer\",\"dog\",\"frog\",\"horse\",\"ship\",\"truck\"]"
      ],
      "execution_count": null,
      "outputs": []
    },
    {
      "cell_type": "markdown",
      "metadata": {
        "id": "JUzq_5wEQz5F"
      },
      "source": [
        "let define a function to study and plot the respective index image"
      ]
    },
    {
      "cell_type": "code",
      "metadata": {
        "colab": {
          "base_uri": "https://localhost:8080/",
          "height": 1000
        },
        "id": "dmd3EeXhQ8k2",
        "outputId": "02c1e5b2-533e-433e-81b5-4e3e77dac7a8"
      },
      "source": [
        "def img_plot(X,y,index):\n",
        "  plt.figure(figsize=(8,4))\n",
        "  plt.imshow(X[index])\n",
        "  plt.xlabel(classes[y[index]])\n",
        "for i in range(10):\n",
        "     img_plot(X_train,y_train1D,i)"
      ],
      "execution_count": null,
      "outputs": [
        {
          "output_type": "display_data",
          "data": {
            "image/png": "[encoded data removed]",
            "text/plain": [
              "<Figure size 576x288 with 1 Axes>"
            ]
          },
          "metadata": {
            "tags": [],
            "needs_background": "light"
          }
        },
        {
          "output_type": "display_data",
          "data": {
            "image/png": "[encoded data removed]",
            "text/plain": [
              "<Figure size 576x288 with 1 Axes>"
            ]
          },
          "metadata": {
            "tags": [],
            "needs_background": "light"
          }
        },
        {
          "output_type": "display_data",
          "data": {
            "image/png": "[encoded data removed]",
            "text/plain": [
              "<Figure size 576x288 with 1 Axes>"
            ]
          },
          "metadata": {
            "tags": [],
            "needs_background": "light"
          }
        },
        {
          "output_type": "display_data",
          "data": {
            "image/png": "[encoded data removed]",
            "text/plain": [
              "<Figure size 576x288 with 1 Axes>"
            ]
          },
          "metadata": {
            "tags": [],
            "needs_background": "light"
          }
        },
        {
          "output_type": "display_data",
          "data": {
            "image/png": "[encoded data removed]",
            "text/plain": [
              "<Figure size 576x288 with 1 Axes>"
            ]
          },
          "metadata": {
            "tags": [],
            "needs_background": "light"
          }
        },
        {
          "output_type": "display_data",
          "data": {
            "image/png": "[encoded data removed]",
            "text/plain": [
              "<Figure size 576x288 with 1 Axes>"
            ]
          },
          "metadata": {
            "tags": [],
            "needs_background": "light"
          }
        },
        {
          "output_type": "display_data",
          "data": {
            "image/png": "[encoded data removed]",
            "text/plain": [
              "<Figure size 576x288 with 1 Axes>"
            ]
          },
          "metadata": {
            "tags": [],
            "needs_background": "light"
          }
        },
        {
          "output_type": "display_data",
          "data": {
            "image/png": "[encoded data removed]",
            "text/plain": [
              "<Figure size 576x288 with 1 Axes>"
            ]
          },
          "metadata": {
            "tags": [],
            "needs_background": "light"
          }
        },
        {
          "output_type": "display_data",
          "data": {
            "image/png": "[encoded data removed]",
            "text/plain": [
              "<Figure size 576x288 with 1 Axes>"
            ]
          },
          "metadata": {
            "tags": [],
            "needs_background": "light"
          }
        },
        {
          "output_type": "display_data",
          "data": {
            "image/png": "[encoded data removed]",
            "text/plain": [
              "<Figure size 576x288 with 1 Axes>"
            ]
          },
          "metadata": {
            "tags": [],
            "needs_background": "light"
          }
        }
      ]
    },
    {
      "cell_type": "markdown",
      "metadata": {
        "id": "4-l7o8oXXEsQ"
      },
      "source": [
        "Normalize datasets for better perfromance.\n",
        "\n",
        " Rescale the images to obtain the range [0, 1] by dividing by 255 (the maximum value of the pixels)."
      ]
    },
    {
      "cell_type": "code",
      "metadata": {
        "id": "ATEMwfqtXRNh"
      },
      "source": [
        "X_train = X_train / 255.0\n",
        "X_test = X_test / 255.0"
      ],
      "execution_count": null,
      "outputs": []
    },
    {
      "cell_type": "markdown",
      "metadata": {
        "id": "l6bmQY072vvX"
      },
      "source": [
        "MLP"
      ]
    },
    {
      "cell_type": "code",
      "metadata": {
        "colab": {
          "base_uri": "https://localhost:8080/"
        },
        "id": "dpAZ0V2X2ytA",
        "outputId": "99101ba9-828f-4b7a-97f7-be6b5c5bc3c9"
      },
      "source": [
        "from keras.models import Sequential\n",
        "from keras.layers import Dense,Flatten\n",
        "\n",
        "# define the model\n",
        "model = Sequential()\n",
        "model.add(Flatten(input_shape = X_train.shape[1:]))\n",
        "model.add(Dense(3000, activation='relu'))\n",
        "model.add(Dense(10, activation='softmax'))\n",
        "\n",
        "model.summary()"
      ],
      "execution_count": null,
      "outputs": [
        {
          "output_type": "stream",
          "text": [
            "Model: \"sequential_1\"\n",
            "_________________________________________________________________\n",
            "Layer (type)                 Output Shape              Param #   \n",
            "=================================================================\n",
            "flatten_1 (Flatten)          (None, 3072)              0         \n",
            "_________________________________________________________________\n",
            "dense_2 (Dense)              (None, 3000)              9219000   \n",
            "_________________________________________________________________\n",
            "dense_3 (Dense)              (None, 10)                30010     \n",
            "=================================================================\n",
            "Total params: 9,249,010\n",
            "Trainable params: 9,249,010\n",
            "Non-trainable params: 0\n",
            "_________________________________________________________________\n"
          ],
          "name": "stdout"
        }
      ]
    },
    {
      "cell_type": "code",
      "metadata": {
        "id": "87qR6i8B38c0"
      },
      "source": [
        "# compile the model\n",
        "model.compile(loss='sparse_categorical_crossentropy', optimizer='adam', \n",
        "                  metrics=['accuracy'])"
      ],
      "execution_count": null,
      "outputs": []
    },
    {
      "cell_type": "code",
      "metadata": {
        "colab": {
          "base_uri": "https://localhost:8080/"
        },
        "id": "UgO6z2ML6CU0",
        "outputId": "d83465e9-3832-4ae6-d335-ef78fc093bdd"
      },
      "source": [
        "X_train.shape"
      ],
      "execution_count": null,
      "outputs": [
        {
          "output_type": "execute_result",
          "data": {
            "text/plain": [
              "(50000, 32, 32, 3)"
            ]
          },
          "metadata": {
            "tags": []
          },
          "execution_count": 18
        }
      ]
    },
    {
      "cell_type": "code",
      "metadata": {
        "colab": {
          "base_uri": "https://localhost:8080/"
        },
        "id": "EnEfF3Tn6FyH",
        "outputId": "5ee8444b-6951-4678-c644-5689b098af63"
      },
      "source": [
        "y_train"
      ],
      "execution_count": null,
      "outputs": [
        {
          "output_type": "execute_result",
          "data": {
            "text/plain": [
              "array([[6],\n",
              "       [9],\n",
              "       [9],\n",
              "       ...,\n",
              "       [9],\n",
              "       [1],\n",
              "       [1]], dtype=uint8)"
            ]
          },
          "metadata": {
            "tags": []
          },
          "execution_count": 19
        }
      ]
    },
    {
      "cell_type": "code",
      "metadata": {
        "colab": {
          "base_uri": "https://localhost:8080/"
        },
        "id": "u_y83rjHrgNP",
        "outputId": "90bb15dd-241f-43c6-bf6b-89b4f2bb3c03"
      },
      "source": [
        "y_train.shape"
      ],
      "execution_count": null,
      "outputs": [
        {
          "output_type": "execute_result",
          "data": {
            "text/plain": [
              "(50000, 1)"
            ]
          },
          "metadata": {
            "tags": []
          },
          "execution_count": 20
        }
      ]
    },
    {
      "cell_type": "code",
      "metadata": {
        "colab": {
          "base_uri": "https://localhost:8080/"
        },
        "id": "3md6zxsP4bx4",
        "outputId": "bd8738f9-e143-484e-cc9d-a842cc1d7c10"
      },
      "source": [
        "mlp = model.fit(X_train, y_train, epochs=6)"
      ],
      "execution_count": null,
      "outputs": [
        {
          "output_type": "stream",
          "text": [
            "Epoch 1/6\n",
            "1563/1563 [==============================] - 105s 67ms/step - loss: 2.3676 - accuracy: 0.2814\n",
            "Epoch 2/6\n",
            "1563/1563 [==============================] - 104s 66ms/step - loss: 1.6923 - accuracy: 0.3917\n",
            "Epoch 3/6\n",
            "1563/1563 [==============================] - 104s 66ms/step - loss: 1.6051 - accuracy: 0.4292\n",
            "Epoch 4/6\n",
            "1563/1563 [==============================] - 104s 67ms/step - loss: 1.5589 - accuracy: 0.4427\n",
            "Epoch 5/6\n",
            "1563/1563 [==============================] - 103s 66ms/step - loss: 1.5347 - accuracy: 0.4568\n",
            "Epoch 6/6\n",
            "1563/1563 [==============================] - 103s 66ms/step - loss: 1.4897 - accuracy: 0.4715\n"
          ],
          "name": "stdout"
        }
      ]
    },
    {
      "cell_type": "code",
      "metadata": {
        "id": "Al65i1qmrFjW"
      },
      "source": [
        "hist=mlp.history"
      ],
      "execution_count": null,
      "outputs": []
    },
    {
      "cell_type": "code",
      "metadata": {
        "colab": {
          "base_uri": "https://localhost:8080/"
        },
        "id": "6d74xUGXta0y",
        "outputId": "f7b702e9-c8f9-47aa-d976-4e2fe453102d"
      },
      "source": [
        "#accuracy of the model\n",
        "print(\"Accuracy of the MLP model in each epoch is :\",hist['accuracy'])\n",
        "print(\"loss of the MLP model in eah epoch is :\",hist['loss'])\n",
        "print(\"final accuracy of the MLP model: \",round((hist['accuracy'][-1]),2)*100 )"
      ],
      "execution_count": null,
      "outputs": [
        {
          "output_type": "stream",
          "text": [
            "Accuracy of the MLP model in each epoch is : [0.32561999559402466, 0.40049999952316284, 0.43195998668670654, 0.4471200108528137, 0.4602000117301941, 0.4700399935245514]\n",
            "loss of the MLP model in eah epoch is : [1.9376896619796753, 1.6777042150497437, 1.5984357595443726, 1.5532768964767456, 1.526780605316162, 1.4956066608428955]\n",
            "final accuracy of the MLP model:  47.0\n"
          ],
          "name": "stdout"
        }
      ]
    },
    {
      "cell_type": "markdown",
      "metadata": {
        "id": "1RuKe8s6BflQ"
      },
      "source": [
        "model.evaluate(): To calculate the loss values for input data.\n",
        "\n",
        "model.predict(): To generate network output for input data.\n",
        "\n",
        "model.predict_classes(): To generate class outputs for input data.\n",
        "\n",
        "model.predict_proba(): To generate class probabilities for input data."
      ]
    },
    {
      "cell_type": "markdown",
      "metadata": {
        "id": "mFxaMf5oATNR"
      },
      "source": [
        "Evaluation:"
      ]
    },
    {
      "cell_type": "code",
      "metadata": {
        "colab": {
          "base_uri": "https://localhost:8080/"
        },
        "id": "TSrw8NrDACUc",
        "outputId": "c7148ce0-ea2c-460a-a0d7-85e5681fe661"
      },
      "source": [
        "mlp\n",
        "#mlp_score = hist.predict(X_test)\n",
        "#print('\\n', 'Test accuracy:', mlp_score)"
      ],
      "execution_count": null,
      "outputs": [
        {
          "output_type": "execute_result",
          "data": {
            "text/plain": [
              "<tensorflow.python.keras.callbacks.History at 0x7f9252125050>"
            ]
          },
          "metadata": {
            "tags": []
          },
          "execution_count": 26
        }
      ]
    },
    {
      "cell_type": "markdown",
      "metadata": {
        "id": "ZNgxNoFCX5KQ"
      },
      "source": [
        "ANN for classification"
      ]
    },
    {
      "cell_type": "markdown",
      "metadata": {
        "id": "Gs2SqlmM2u0d"
      },
      "source": [
        ""
      ]
    },
    {
      "cell_type": "code",
      "metadata": {
        "colab": {
          "base_uri": "https://localhost:8080/"
        },
        "id": "Opi78zzMX85G",
        "outputId": "4333e834-68a2-480b-fb51-4510dd2dc424"
      },
      "source": [
        "ann = models.Sequential([\n",
        "        layers.Flatten(input_shape=(32,32,3)),\n",
        "        layers.Dense(3000, activation='relu'),\n",
        "        layers.Dense(1000, activation='relu'),\n",
        "        layers.Dense(10, activation='sigmoid')    \n",
        "    ])\n",
        "\n",
        "ann.compile(optimizer='SGD',\n",
        "              loss='sparse_categorical_crossentropy',\n",
        "              metrics=['accuracy'])\n",
        "\n",
        "ann.fit(X_train, y_train, epochs=5)"
      ],
      "execution_count": null,
      "outputs": [
        {
          "output_type": "stream",
          "text": [
            "Epoch 1/5\n",
            "1563/1563 [==============================] - 87s 55ms/step - loss: 1.9289 - accuracy: 0.3079\n",
            "Epoch 2/5\n",
            "1563/1563 [==============================] - 86s 55ms/step - loss: 1.6457 - accuracy: 0.4171\n",
            "Epoch 3/5\n",
            "1563/1563 [==============================] - 87s 56ms/step - loss: 1.5582 - accuracy: 0.4475\n",
            "Epoch 4/5\n",
            "1563/1563 [==============================] - 87s 55ms/step - loss: 1.4892 - accuracy: 0.4747\n",
            "Epoch 5/5\n",
            "1563/1563 [==============================] - 88s 56ms/step - loss: 1.4340 - accuracy: 0.4973\n"
          ],
          "name": "stdout"
        },
        {
          "output_type": "execute_result",
          "data": {
            "text/plain": [
              "<tensorflow.python.keras.callbacks.History at 0x7f794ccdfad0>"
            ]
          },
          "metadata": {
            "tags": []
          },
          "execution_count": 16
        }
      ]
    },
    {
      "cell_type": "code",
      "metadata": {
        "colab": {
          "base_uri": "https://localhost:8080/"
        },
        "id": "-LYBpfhzog9U",
        "outputId": "750cdfd2-0474-45b9-d406-4b22e7d7eb2f"
      },
      "source": [
        "from sklearn.metrics import confusion_matrix,classification_report\n",
        "y_pred=ann.predict(X_test)\n",
        "y_pred_per_class=[np.argmax(a) for a in y_pred]\n",
        "print(\"classification report: \",classification_report(y_test,y_pred_per_class))"
      ],
      "execution_count": null,
      "outputs": [
        {
          "output_type": "stream",
          "text": [
            "classification report:                precision    recall  f1-score   support\n",
            "\n",
            "           0       0.66      0.38      0.48      1000\n",
            "           1       0.68      0.49      0.57      1000\n",
            "           2       0.45      0.16      0.23      1000\n",
            "           3       0.38      0.17      0.23      1000\n",
            "           4       0.44      0.30      0.35      1000\n",
            "           5       0.31      0.48      0.38      1000\n",
            "           6       0.29      0.87      0.43      1000\n",
            "           7       0.65      0.41      0.50      1000\n",
            "           8       0.51      0.70      0.59      1000\n",
            "           9       0.66      0.44      0.52      1000\n",
            "\n",
            "    accuracy                           0.44     10000\n",
            "   macro avg       0.50      0.44      0.43     10000\n",
            "weighted avg       0.50      0.44      0.43     10000\n",
            "\n"
          ],
          "name": "stdout"
        }
      ]
    },
    {
      "cell_type": "markdown",
      "metadata": {
        "id": "rBGFAuOFwJNo"
      },
      "source": [
        "Convolutional Neural Network"
      ]
    },
    {
      "cell_type": "code",
      "metadata": {
        "id": "mr2qYwiNwZHl"
      },
      "source": [
        "cnn = models.Sequential([\n",
        "    layers.Conv2D(filters=32, kernel_size=(3, 3), activation='relu', input_shape=(32, 32, 3)),\n",
        "    layers.MaxPooling2D((2, 2)),\n",
        "    \n",
        "    layers.Conv2D(filters=64, kernel_size=(3, 3), activation='relu'),\n",
        "    layers.MaxPooling2D((2, 2)),\n",
        "    \n",
        "    layers.Flatten(),\n",
        "    layers.Dense(64, activation='relu'),\n",
        "    layers.Dense(10, activation='softmax')\n",
        "])"
      ],
      "execution_count": null,
      "outputs": []
    },
    {
      "cell_type": "code",
      "metadata": {
        "id": "Hc4z9RHOxdyp"
      },
      "source": [
        "cnn.compile(optimizer='adam',\n",
        "              loss='sparse_categorical_crossentropy',\n",
        "              metrics=['accuracy'])"
      ],
      "execution_count": null,
      "outputs": []
    },
    {
      "cell_type": "code",
      "metadata": {
        "colab": {
          "base_uri": "https://localhost:8080/"
        },
        "id": "YZESg2ugxkoe",
        "outputId": "082de482-e496-4d08-edae-939691eecb21"
      },
      "source": [
        "cnn.fit(X_train, y_train, epochs=10)"
      ],
      "execution_count": null,
      "outputs": [
        {
          "output_type": "stream",
          "text": [
            "Epoch 1/10\n",
            "1563/1563 [==============================] - 60s 38ms/step - loss: 1.7019 - accuracy: 0.3813\n",
            "Epoch 2/10\n",
            "1563/1563 [==============================] - 59s 38ms/step - loss: 1.1530 - accuracy: 0.6025\n",
            "Epoch 3/10\n",
            "1563/1563 [==============================] - 59s 38ms/step - loss: 1.0166 - accuracy: 0.6451\n",
            "Epoch 4/10\n",
            "1563/1563 [==============================] - 59s 38ms/step - loss: 0.9266 - accuracy: 0.6777\n",
            "Epoch 5/10\n",
            "1563/1563 [==============================] - 59s 38ms/step - loss: 0.8623 - accuracy: 0.7026\n",
            "Epoch 6/10\n",
            "1563/1563 [==============================] - 59s 38ms/step - loss: 0.8103 - accuracy: 0.7202\n",
            "Epoch 7/10\n",
            "1563/1563 [==============================] - 59s 38ms/step - loss: 0.7589 - accuracy: 0.7393\n",
            "Epoch 8/10\n",
            "1563/1563 [==============================] - 59s 38ms/step - loss: 0.7250 - accuracy: 0.7517\n",
            "Epoch 9/10\n",
            "1563/1563 [==============================] - 59s 38ms/step - loss: 0.6803 - accuracy: 0.7604\n",
            "Epoch 10/10\n",
            "1563/1563 [==============================] - 59s 37ms/step - loss: 0.6414 - accuracy: 0.7792\n"
          ],
          "name": "stdout"
        },
        {
          "output_type": "execute_result",
          "data": {
            "text/plain": [
              "<tensorflow.python.keras.callbacks.History at 0x7fb072cc26d0>"
            ]
          },
          "metadata": {
            "tags": []
          },
          "execution_count": 25
        }
      ]
    },
    {
      "cell_type": "code",
      "metadata": {
        "colab": {
          "base_uri": "https://localhost:8080/"
        },
        "id": "1OaDx6Cv0Pp6",
        "outputId": "f804fc11-c494-401b-8c63-2971fa5e94f1"
      },
      "source": [
        "y_pred_cnn=cnn.predict(X_test)\n",
        "y_pred_cnn"
      ],
      "execution_count": null,
      "outputs": [
        {
          "output_type": "execute_result",
          "data": {
            "text/plain": [
              "array([[3.42429645e-04, 1.03131060e-05, 8.34268169e-04, ...,\n",
              "        4.98834124e-05, 1.39485439e-02, 1.00482917e-04],\n",
              "       [5.06121141e-04, 9.46519151e-03, 2.69542284e-06, ...,\n",
              "        2.65064450e-08, 9.90020394e-01, 5.37292044e-06],\n",
              "       [6.92265481e-02, 3.83997768e-01, 5.20137651e-03, ...,\n",
              "        1.28164701e-03, 2.13290289e-01, 3.16525221e-01],\n",
              "       ...,\n",
              "       [2.86991289e-03, 9.63837124e-07, 7.66251087e-02, ...,\n",
              "        3.97423297e-01, 1.12115005e-04, 2.60805496e-06],\n",
              "       [1.71243493e-02, 9.96952802e-02, 8.36709747e-04, ...,\n",
              "        5.13306004e-04, 2.10079248e-03, 5.99050836e-04],\n",
              "       [1.42386023e-04, 2.89297386e-05, 3.84740997e-04, ...,\n",
              "        9.92311776e-01, 8.52834637e-06, 5.06488595e-06]], dtype=float32)"
            ]
          },
          "metadata": {
            "tags": []
          },
          "execution_count": 27
        }
      ]
    },
    {
      "cell_type": "code",
      "metadata": {
        "colab": {
          "base_uri": "https://localhost:8080/"
        },
        "id": "tCZwfDpY0lx9",
        "outputId": "8b3117be-6fb0-4495-f470-21fdd00b4d6c"
      },
      "source": [
        "y_pred_cnn_class=[np.argmax(b) for b in y_pred_cnn]\n",
        "print(\"classification_report: \", classification_report(y_test,y_pred_cnn_class))"
      ],
      "execution_count": null,
      "outputs": [
        {
          "output_type": "stream",
          "text": [
            "classification_report:                precision    recall  f1-score   support\n",
            "\n",
            "           0       0.75      0.75      0.75      1000\n",
            "           1       0.81      0.80      0.80      1000\n",
            "           2       0.60      0.59      0.59      1000\n",
            "           3       0.49      0.54      0.51      1000\n",
            "           4       0.57      0.69      0.63      1000\n",
            "           5       0.61      0.62      0.61      1000\n",
            "           6       0.81      0.69      0.75      1000\n",
            "           7       0.80      0.72      0.75      1000\n",
            "           8       0.75      0.86      0.80      1000\n",
            "           9       0.85      0.70      0.77      1000\n",
            "\n",
            "    accuracy                           0.69     10000\n",
            "   macro avg       0.70      0.69      0.70     10000\n",
            "weighted avg       0.70      0.69      0.70     10000\n",
            "\n"
          ],
          "name": "stdout"
        }
      ]
    }
  ]
}